{
 "cells": [
  {
   "cell_type": "code",
   "execution_count": 37,
   "id": "499251c4-ff97-4ad3-b80c-91ac7046a0d0",
   "metadata": {},
   "outputs": [
    {
     "name": "stdout",
     "output_type": "stream",
     "text": [
      "Coefficients: [-1.00213533  0.69626862  0.27806485  0.7187384  -2.0223194   3.14523956\n",
      " -0.17604788 -3.0819076   2.25140666 -1.76701378 -2.03775151  1.12956831\n",
      " -3.61165842]\n",
      "Intercept: 22.796534653465343\n",
      "R² Score: 0.6687594935356322\n",
      "Mean Squared Error: 24.291119474973495\n"
     ]
    }
   ],
   "source": [
    "import pandas as pd\n",
    "from sklearn.model_selection import train_test_split\n",
    "from sklearn.preprocessing import StandardScaler\n",
    "from sklearn.linear_model import LinearRegression\n",
    "from sklearn.metrics import mean_squared_error, r2_score\n",
    "data = pd.read_csv(\"C:/Users/Administrator/Desktop/Boston/Boston.csv\")\n",
    "data = data.drop(data.columns[0], axis=1)\n",
    "X = data.drop('medv', axis=1)\n",
    "y = data['medv']\n",
    "X_train, X_test, y_train, y_test = train_test_split(X, y, test_size=0.2, random_state=42)\n",
    "scaler = StandardScaler()\n",
    "X_train_scaled = scaler.fit_transform(X_train)\n",
    "X_test_scaled = scaler.transform(X_test)\n",
    "model = LinearRegression()\n",
    "model.fit(X_train_scaled, y_train)\n",
    "y_pred = model.predict(X_test_scaled)\n",
    "r2 = r2_score(y_test, y_pred)\n",
    "mse = mean_squared_error(y_test, y_pred)\n",
    "print(\"Coefficients:\", model.coef_)\n",
    "print(\"Intercept:\", model.intercept_)\n",
    "print(\"R² Score:\", r2)\n",
    "print(\"Mean Squared Error:\", mse)"
   ]
  },
  {
   "cell_type": "code",
   "execution_count": 35,
   "id": "f9884789-2543-4a11-bf06-a229363f11bf",
   "metadata": {},
   "outputs": [
    {
     "name": "stdout",
     "output_type": "stream",
     "text": [
      "Predicted house price for new data: 30.39127483311866\n"
     ]
    }
   ],
   "source": [
    "new_data = pd.DataFrame([[0.00632, 18.0, 2.31, 0.0, 0.538, 6.575, 65.2, 4.09, 1.0, 296.0, 15.3, 392.0, 4.0]], \n",
    "                        columns=X.columns)\n",
    "new_data_scaled = scaler.transform(new_data)\n",
    "prediction_new = model.predict(new_data_scaled)\n",
    "print(f\"Predicted house price for new data: {prediction_new[0]}\")"
   ]
  },
  {
   "cell_type": "code",
   "execution_count": 55,
   "id": "75f069cf-51d2-4d7f-aeab-f0ddc73071b5",
   "metadata": {},
   "outputs": [
    {
     "name": "stdout",
     "output_type": "stream",
     "text": [
      "Coefficients: [ 2.25328063e+01 -9.28146064e-01  1.08156863e+00  1.40899997e-01\n",
      "  6.81739725e-01 -2.05671827e+00  2.67423017e+00  1.94660717e-02\n",
      " -3.10404426e+00  2.66221764e+00 -2.07678168e+00 -2.06060666e+00\n",
      "  8.49268418e-01 -3.74362713e+00]\n",
      "R² Score: 0.7406426641094095\n"
     ]
    }
   ],
   "source": [
    "X_scaled = scaler.fit_transform(X)\n",
    "X_b_scaled = np.hstack([np.ones((X_scaled.shape[0], 1)), X_scaled])\n",
    "def linear_regression_train(X, y):\n",
    "    theta = np.linalg.inv(X.T @ X) @ X.T @ y\n",
    "    return theta\n",
    "theta = linear_regression_train(X_b_scaled, y)\n",
    "def predict(X, theta):\n",
    "    return X @ theta\n",
    "y_pred = predict(X_b_scaled, theta)\n",
    "def r2_score(y_true, y_pred):\n",
    "    ss_total = np.sum((y_true - np.mean(y_true)) ** 2)\n",
    "    ss_res = np.sum((y_true - y_pred) ** 2)\n",
    "    r2 = 1 - (ss_res / ss_total)\n",
    "    return r2\n",
    "r2 = r2_score(y, y_pred)\n",
    "print(\"Coefficients:\", theta.flatten())\n",
    "print(\"R² Score:\", r2)"
   ]
  },
  {
   "cell_type": "code",
   "execution_count": 57,
   "id": "036c68d5-73ac-4df9-bed5-b6ebbac976f3",
   "metadata": {},
   "outputs": [
    {
     "name": "stdout",
     "output_type": "stream",
     "text": [
      "Predicted house price for new data: 30.472479339273704\n"
     ]
    }
   ],
   "source": [
    "new_data_b = np.hstack([np.ones((new_data_scaled.shape[0], 1)), new_data_scaled])\n",
    "prediction_new = predict(new_data_b, theta)\n",
    "print(f\"Predicted house price for new data: {prediction_new[0][0]}\")"
   ]
  },
  {
   "cell_type": "code",
   "execution_count": 17,
   "id": "ce0efeef-3610-4b35-9b3a-2478be2ad4d9",
   "metadata": {},
   "outputs": [
    {
     "name": "stdout",
     "output_type": "stream",
     "text": [
      "R² score (Ridge): 0.7315744764907286\n"
     ]
    }
   ],
   "source": [
    "def ridge_regression(X, y, lambda_):\n",
    "    n = X.shape[1]\n",
    "    I = np.eye(n)\n",
    "    I[0, 0] = 0 \n",
    "    theta = np.linalg.inv(X.T @ X + lambda_ * I) @ X.T @ y\n",
    "    return theta\n",
    "lambda_ = 10\n",
    "theta_ridge = ridge_regression(X_b, y, lambda_)\n",
    "def predict(X, theta):\n",
    "    return X @ theta\n",
    "y_pred_ridge = predict(X_b, theta_ridge)\n",
    "def r2_score(y, y_pred):\n",
    "    ss_total = np.sum((y - np.mean(y))**2)\n",
    "    ss_res = np.sum((y - y_pred)**2)\n",
    "    return 1 - (ss_res / ss_total)\n",
    "print(\"R² score (Ridge):\", r2_score(y, y_pred_ridge))"
   ]
  },
  {
   "cell_type": "code",
   "execution_count": 59,
   "id": "4f7440dd-f0f2-40a0-a807-b70fc2c0c79e",
   "metadata": {},
   "outputs": [
    {
     "name": "stdout",
     "output_type": "stream",
     "text": [
      "Predicted house price (Ridge): 30.328633440886186\n"
     ]
    }
   ],
   "source": [
    "prediction_ridge = predict(new_data_b, theta_ridge)\n",
    "print(f\"Predicted house price (Ridge): {prediction_ridge[0][0]}\")"
   ]
  },
  {
   "cell_type": "code",
   "execution_count": 47,
   "id": "bc8a49c4-1547-4213-861d-096711a8e678",
   "metadata": {},
   "outputs": [
    {
     "name": "stdout",
     "output_type": "stream",
     "text": [
      "R² score (Lasso): 0.7405643164796262\n"
     ]
    }
   ],
   "source": [
    "def lasso_regression(X, y, lambda_, num_iters=1000, tol=1e-4):\n",
    "    m, n = X.shape\n",
    "    theta = np.zeros((n, 1))\n",
    "    \n",
    "    for _ in range(num_iters):\n",
    "        theta_old = theta.copy()\n",
    "        for j in range(n):\n",
    "            X_j = X[:, j].reshape(-1, 1)\n",
    "            y_pred = X @ theta\n",
    "            residual = y - y_pred + theta[j] * X_j\n",
    "            \n",
    "            rho = np.sum(X_j * residual)\n",
    "            \n",
    "            if j == 0:\n",
    "                \n",
    "                theta[j] = rho / np.sum(X_j ** 2)\n",
    "            else:\n",
    "                if rho < -lambda_ / 2:\n",
    "                    theta[j] = (rho + lambda_ / 2) / np.sum(X_j ** 2)\n",
    "                elif rho > lambda_ / 2:\n",
    "                    theta[j] = (rho - lambda_ / 2) / np.sum(X_j ** 2)\n",
    "                else:\n",
    "                    theta[j] = 0.0\n",
    "                    \n",
    "        if np.linalg.norm(theta - theta_old, ord=1) < tol:\n",
    "            break\n",
    "            \n",
    "    return theta\n",
    "\n",
    "def predict(X, theta):\n",
    "    return X @ theta\n",
    "\n",
    "def r2_score(y_true, y_pred):\n",
    "    ss_total = np.sum((y_true - np.mean(y_true)) ** 2)\n",
    "    ss_res = np.sum((y_true - y_pred) ** 2)\n",
    "    return 1 - (ss_res / ss_total)\n",
    "\n",
    "lambda_ = 10\n",
    "theta_lasso = lasso_regression(X_b_scaled, y, lambda_)\n",
    "\n",
    "y_pred_lasso = predict(X_b_scaled, theta_lasso)\n",
    "\n",
    "print(\"R² score (Lasso):\", r2_score(y, y_pred_lasso))"
   ]
  },
  {
   "cell_type": "code",
   "execution_count": 61,
   "id": "8838cb74-5825-482e-910c-e9baf22661fa",
   "metadata": {},
   "outputs": [
    {
     "name": "stdout",
     "output_type": "stream",
     "text": [
      "Predicted house price (Lasso) for new data: 30.577115373097527\n"
     ]
    }
   ],
   "source": [
    "prediction_new = predict(new_data_b, theta_lasso)\n",
    "\n",
    "print(f\"Predicted house price (Lasso) for new data: {prediction_new[0][0]}\")"
   ]
  },
  {
   "cell_type": "code",
   "execution_count": 67,
   "id": "38c307b8-0793-46b5-81d1-180e47cf487a",
   "metadata": {},
   "outputs": [
    {
     "name": "stdout",
     "output_type": "stream",
     "text": [
      "Learned parameters (theta):\n",
      " [[22.53183355]\n",
      " [-0.76000917]\n",
      " [ 0.77192978]\n",
      " [-0.29571433]\n",
      " [ 0.74551208]\n",
      " [-1.4694323 ]\n",
      " [ 2.89271159]\n",
      " [-0.11476216]\n",
      " [-2.58595542]\n",
      " [ 1.33783915]\n",
      " [-0.8285727 ]\n",
      " [-1.91303358]\n",
      " [ 0.86260517]\n",
      " [-3.55323053]]\n"
     ]
    },
    {
     "data": {
      "image/png": "[encoded data removed]",
      "text/plain": [
       "<Figure size 640x480 with 1 Axes>"
      ]
     },
     "metadata": {},
     "output_type": "display_data"
    }
   ],
   "source": [
    "mean = np.mean(X, axis=0)\n",
    "std = np.std(X, axis=0)\n",
    "X_scaled = (X - mean) / std\n",
    "X_b = np.hstack([np.ones((X.shape[0], 1)), X_scaled])\n",
    "m, n = X_b.shape\n",
    "theta = np.zeros((n, 1))\n",
    "alpha = 0.01\n",
    "epochs = 1000\n",
    "lambda_reg = 10\n",
    "\n",
    "cost_history = []\n",
    "def compute_cost(X, y, theta, lambda_reg):\n",
    "    m = X.shape[0]\n",
    "    predictions = X @ theta\n",
    "    error = predictions - y\n",
    "    cost = (1 / (2 * m)) * np.sum(error ** 2) + (lambda_reg / (2 * m)) * np.sum(theta[1:] ** 2)\n",
    "    return cost\n",
    "\n",
    "for i in range(epochs):\n",
    "    predictions = X_b @ theta\n",
    "    error = predictions - y\n",
    "\n",
    "    gradients = (1 / m) * (X_b.T @ error) + (lambda_reg / m) * np.vstack([[0], theta[1:]])  # Do not regularize intercept\n",
    "    theta -= alpha * gradients\n",
    "    cost_history.append(compute_cost(X_b, y, theta, lambda_reg))\n",
    "\n",
    "print(\"Learned parameters (theta):\\n\", theta)\n",
    "\n",
    "plt.plot(cost_history)\n",
    "plt.xlabel('Iteration')\n",
    "plt.ylabel('Cost')\n",
    "plt.title('Cost Function Convergence (Ridge)')\n",
    "plt.grid(True)\n",
    "plt.show()"
   ]
  },
  {
   "cell_type": "code",
   "execution_count": 63,
   "id": "a9a7018b-16c7-4881-a585-c993d22db292",
   "metadata": {},
   "outputs": [
    {
     "name": "stdout",
     "output_type": "stream",
     "text": [
      "Predicted house price: 30.472479339273704\n"
     ]
    }
   ],
   "source": [
    "prediction = new_data_b @ theta \n",
    "\n",
    "print(f\"Predicted house price: {prediction[0][0]}\")"
   ]
  },
  {
   "cell_type": "code",
   "execution_count": null,
   "id": "ef9eb220-000b-4129-b26b-b7c8c4852ea6",
   "metadata": {},
   "outputs": [],
   "source": []
  }
 ],
 "metadata": {
  "kernelspec": {
   "display_name": "Python [conda env:base] *",
   "language": "python",
   "name": "conda-base-py"
  },
  "language_info": {
   "codemirror_mode": {
    "name": "ipython",
    "version": 3
   },
   "file_extension": ".py",
   "mimetype": "text/x-python",
   "name": "python",
   "nbconvert_exporter": "python",
   "pygments_lexer": "ipython3",
   "version": "3.12.7"
  }
 },
 "nbformat": 4,
 "nbformat_minor": 5
}
